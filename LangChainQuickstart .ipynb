{
 "cells": [
  {
   "cell_type": "markdown",
   "id": "723cc21f",
   "metadata": {},
   "source": [
    "## LLM Chain "
   ]
  },
  {
   "cell_type": "markdown",
   "id": "3fb75d52",
   "metadata": {},
   "source": [
    "#### LangChain: Short Definitions Generator using local open source model (Ollama's integration)\n"
   ]
  },
  {
   "cell_type": "code",
   "execution_count": 1,
   "id": "da61cc4f",
   "metadata": {},
   "outputs": [],
   "source": [
    "# Import necessary modules\n",
    "\n",
    "from langchain_core.prompts import PromptTemplate\n",
    "from langchain_community.llms import Ollama\n",
    "from langchain_core.output_parsers import StrOutputParser"
   ]
  },
  {
   "cell_type": "code",
   "execution_count": 2,
   "id": "b0b1c627",
   "metadata": {},
   "outputs": [],
   "source": [
    "# Create a prompt template with a topic placeholder\n",
    "\n",
    "prompt = PromptTemplate.from_template(\"Give me a short definition of {topic}\")"
   ]
  },
  {
   "cell_type": "code",
   "execution_count": 3,
   "id": "a0b0dee1",
   "metadata": {},
   "outputs": [],
   "source": [
    "# Initialize a language model with Ollama\n",
    "\n",
    "llm = Ollama(model=\"llama2\")"
   ]
  },
  {
   "cell_type": "code",
   "execution_count": 4,
   "id": "59dcfaf1",
   "metadata": {},
   "outputs": [],
   "source": [
    "# Initialize an output parser for the text\n",
    "\n",
    "output_parser = StrOutputParser()"
   ]
  },
  {
   "cell_type": "code",
   "execution_count": 5,
   "id": "3596e15a",
   "metadata": {},
   "outputs": [],
   "source": [
    "# Chain the components to form a processing pipeline\n",
    "\n",
    "chain = prompt | llm | output_parser"
   ]
  },
  {
   "cell_type": "code",
   "execution_count": 6,
   "id": "91b5a744",
   "metadata": {},
   "outputs": [
    {
     "data": {
      "text/plain": [
       "'Artificial intelligence (AI) refers to the development of computer systems that can perform tasks that typically require human intelligence, such as learning, problem-solving, decision-making, and perception. AI systems use algorithms and machine learning techniques to analyze data, identify patterns, and make predictions or decisions based on that data. Some examples of AI include natural language processing, image recognition, and autonomous vehicles.'"
      ]
     },
     "execution_count": 6,
     "metadata": {},
     "output_type": "execute_result"
    }
   ],
   "source": [
    "# Invoke the chain with the specified topic\n",
    "\n",
    "chain.invoke( {\"topic\" :\"artificial intelligence\"})"
   ]
  }
 ],
 "metadata": {
  "kernelspec": {
   "display_name": "Python 3 (ipykernel)",
   "language": "python",
   "name": "python3"
  },
  "language_info": {
   "codemirror_mode": {
    "name": "ipython",
    "version": 3
   },
   "file_extension": ".py",
   "mimetype": "text/x-python",
   "name": "python",
   "nbconvert_exporter": "python",
   "pygments_lexer": "ipython3",
   "version": "3.11.5"
  }
 },
 "nbformat": 4,
 "nbformat_minor": 5
}
